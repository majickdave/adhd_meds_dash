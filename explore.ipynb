{
 "cells": [
  {
   "cell_type": "code",
   "execution_count": 27,
   "id": "83b07293",
   "metadata": {},
   "outputs": [
    {
     "data": {
      "text/html": [
       "<div>\n",
       "<style scoped>\n",
       "    .dataframe tbody tr th:only-of-type {\n",
       "        vertical-align: middle;\n",
       "    }\n",
       "\n",
       "    .dataframe tbody tr th {\n",
       "        vertical-align: top;\n",
       "    }\n",
       "\n",
       "    .dataframe thead th {\n",
       "        text-align: right;\n",
       "    }\n",
       "</style>\n",
       "<table border=\"1\" class=\"dataframe\">\n",
       "  <thead>\n",
       "    <tr style=\"text-align: right;\">\n",
       "      <th></th>\n",
       "      <th>Medication Type</th>\n",
       "      <th>Brand Name</th>\n",
       "      <th>Generic Name</th>\n",
       "      <th>Duration</th>\n",
       "      <th>Mechanism of Action</th>\n",
       "      <th>Common Side Effects</th>\n",
       "      <th>duration_low</th>\n",
       "      <th>duration_high</th>\n",
       "      <th>duration</th>\n",
       "    </tr>\n",
       "  </thead>\n",
       "  <tbody>\n",
       "    <tr>\n",
       "      <th>0</th>\n",
       "      <td>Stimulant – Methylphenidate</td>\n",
       "      <td>Ritalin</td>\n",
       "      <td>Methylphenidate</td>\n",
       "      <td>Short (3–5 hrs)</td>\n",
       "      <td>Increases dopamine &amp; norepinephrine</td>\n",
       "      <td>Insomnia, anxiety, decreased appetite</td>\n",
       "      <td>3.0</td>\n",
       "      <td>5.0</td>\n",
       "      <td>2.0</td>\n",
       "    </tr>\n",
       "    <tr>\n",
       "      <th>1</th>\n",
       "      <td>Stimulant – Methylphenidate</td>\n",
       "      <td>Ritalin LA</td>\n",
       "      <td>Methylphenidate ER</td>\n",
       "      <td>Long (6–8 hrs)</td>\n",
       "      <td>Same as above</td>\n",
       "      <td>Nervousness, headache</td>\n",
       "      <td>6.0</td>\n",
       "      <td>8.0</td>\n",
       "      <td>2.0</td>\n",
       "    </tr>\n",
       "    <tr>\n",
       "      <th>2</th>\n",
       "      <td>Stimulant – Methylphenidate</td>\n",
       "      <td>Concerta</td>\n",
       "      <td>Methylphenidate ER</td>\n",
       "      <td>Long (10–12 hrs)</td>\n",
       "      <td>Osmotic release delivery</td>\n",
       "      <td>Irritability, dry mouth</td>\n",
       "      <td>10.0</td>\n",
       "      <td>12.0</td>\n",
       "      <td>2.0</td>\n",
       "    </tr>\n",
       "    <tr>\n",
       "      <th>3</th>\n",
       "      <td>Stimulant – Methylphenidate</td>\n",
       "      <td>Focalin</td>\n",
       "      <td>Dexmethylphenidate</td>\n",
       "      <td>Short (4–6 hrs)</td>\n",
       "      <td>Dopamine reuptake inhibitor</td>\n",
       "      <td>Appetite loss, restlessness</td>\n",
       "      <td>4.0</td>\n",
       "      <td>6.0</td>\n",
       "      <td>2.0</td>\n",
       "    </tr>\n",
       "    <tr>\n",
       "      <th>4</th>\n",
       "      <td>Stimulant – Methylphenidate</td>\n",
       "      <td>Focalin XR</td>\n",
       "      <td>Dexmethylphenidate XR</td>\n",
       "      <td>Long (10–12 hrs)</td>\n",
       "      <td>Same as above</td>\n",
       "      <td>Mood changes, insomnia</td>\n",
       "      <td>10.0</td>\n",
       "      <td>12.0</td>\n",
       "      <td>2.0</td>\n",
       "    </tr>\n",
       "  </tbody>\n",
       "</table>\n",
       "</div>"
      ],
      "text/plain": [
       "               Medication Type  Brand Name           Generic Name  \\\n",
       "0  Stimulant – Methylphenidate     Ritalin        Methylphenidate   \n",
       "1  Stimulant – Methylphenidate  Ritalin LA     Methylphenidate ER   \n",
       "2  Stimulant – Methylphenidate    Concerta     Methylphenidate ER   \n",
       "3  Stimulant – Methylphenidate     Focalin     Dexmethylphenidate   \n",
       "4  Stimulant – Methylphenidate  Focalin XR  Dexmethylphenidate XR   \n",
       "\n",
       "           Duration                  Mechanism of Action  \\\n",
       "0   Short (3–5 hrs)  Increases dopamine & norepinephrine   \n",
       "1    Long (6–8 hrs)                        Same as above   \n",
       "2  Long (10–12 hrs)             Osmotic release delivery   \n",
       "3   Short (4–6 hrs)          Dopamine reuptake inhibitor   \n",
       "4  Long (10–12 hrs)                        Same as above   \n",
       "\n",
       "                     Common Side Effects  duration_low  duration_high  \\\n",
       "0  Insomnia, anxiety, decreased appetite           3.0            5.0   \n",
       "1                  Nervousness, headache           6.0            8.0   \n",
       "2                Irritability, dry mouth          10.0           12.0   \n",
       "3            Appetite loss, restlessness           4.0            6.0   \n",
       "4                 Mood changes, insomnia          10.0           12.0   \n",
       "\n",
       "   duration  \n",
       "0       2.0  \n",
       "1       2.0  \n",
       "2       2.0  \n",
       "3       2.0  \n",
       "4       2.0  "
      ]
     },
     "execution_count": 27,
     "metadata": {},
     "output_type": "execute_result"
    }
   ],
   "source": [
    "import streamlit as st\n",
    "import pandas as pd\n",
    "import plotly.express as px\n",
    "\n",
    "\n",
    "file_path = 'med_list_clean.csv'\n",
    "\n",
    "df = pd.read_csv(file_path)\n",
    "\n",
    "df.head()"
   ]
  },
  {
   "cell_type": "code",
   "execution_count": 37,
   "id": "bd2ffb50",
   "metadata": {},
   "outputs": [
    {
     "data": {
      "text/plain": [
       "0                Methylphenidate\n",
       "1             Methylphenidate ER\n",
       "2             Methylphenidate ER\n",
       "3             Dexmethylphenidate\n",
       "4          Dexmethylphenidate XR\n",
       "5        Mixed amphetamine salts\n",
       "6     Mixed amphetamine salts XR\n",
       "7               Lisdexamfetamine\n",
       "8            Amphetamine sulfate\n",
       "9     Mixed amphetamine salts XR\n",
       "10                   Atomoxetine\n",
       "11                     Bupropion\n",
       "12                 Guanfacine ER\n",
       "13                  Clonidine ER\n",
       "Name: Generic Name, dtype: object"
      ]
     },
     "execution_count": 37,
     "metadata": {},
     "output_type": "execute_result"
    }
   ],
   "source": [
    "df['Generic Name']"
   ]
  },
  {
   "cell_type": "code",
   "execution_count": null,
   "id": "e3061240",
   "metadata": {},
   "outputs": [],
   "source": [
    "def get_generic():\n",
    "    for"
   ]
  },
  {
   "cell_type": "code",
   "execution_count": 32,
   "id": "457b37a6",
   "metadata": {},
   "outputs": [
    {
     "data": {
      "application/vnd.plotly.v1+json": {
       "config": {
        "plotlyServerURL": "https://plot.ly"
       },
       "data": [
        {
         "branchvalues": "total",
         "domain": {
          "x": [
           0,
           1
          ],
          "y": [
           0,
           1
          ]
         },
         "hovertemplate": "labels=%{label}<br>duration_low=%{value}<br>parent=%{parent}<br>id=%{id}<extra></extra>",
         "ids": [
          "Stimulant – Methylphenidate/Methylphenidate/Ritalin",
          "Stimulant – Methylphenidate/Methylphenidate ER/Ritalin LA",
          "Stimulant – Methylphenidate/Methylphenidate ER/Concerta",
          "Stimulant – Methylphenidate/Dexmethylphenidate/Focalin",
          "Stimulant – Methylphenidate/Dexmethylphenidate XR/Focalin XR",
          "Stimulant – Amphetamine/Mixed amphetamine salts/Adderall",
          "Stimulant – Amphetamine/Mixed amphetamine salts XR/Adderall XR",
          "Stimulant – Amphetamine/Lisdexamfetamine/Vyvanse",
          "Stimulant – Amphetamine/Amphetamine sulfate/Evekeo",
          "Stimulant – Amphetamine/Mixed amphetamine salts XR/Mydayis",
          "Non-Stimulant/Atomoxetine/Strattera",
          "Non-Stimulant/Bupropion/Wellbutrin (off-label)",
          "Non-Stimulant/Guanfacine ER/Intuniv",
          "Non-Stimulant/Clonidine ER/Kapvay",
          "Stimulant – Methylphenidate/Methylphenidate",
          "Stimulant – Methylphenidate/Methylphenidate ER",
          "Stimulant – Methylphenidate/Dexmethylphenidate",
          "Stimulant – Methylphenidate/Dexmethylphenidate XR",
          "Stimulant – Amphetamine/Mixed amphetamine salts",
          "Stimulant – Amphetamine/Mixed amphetamine salts XR",
          "Stimulant – Amphetamine/Lisdexamfetamine",
          "Stimulant – Amphetamine/Amphetamine sulfate",
          "Non-Stimulant/Atomoxetine",
          "Non-Stimulant/Bupropion",
          "Non-Stimulant/Guanfacine ER",
          "Non-Stimulant/Clonidine ER",
          "Stimulant – Methylphenidate",
          "Stimulant – Amphetamine",
          "Non-Stimulant"
         ],
         "labels": [
          "Ritalin",
          "Ritalin LA",
          "Concerta",
          "Focalin",
          "Focalin XR",
          "Adderall",
          "Adderall XR",
          "Vyvanse",
          "Evekeo",
          "Mydayis",
          "Strattera",
          "Wellbutrin (off-label)",
          "Intuniv",
          "Kapvay",
          "Methylphenidate",
          "Methylphenidate ER",
          "Dexmethylphenidate",
          "Dexmethylphenidate XR",
          "Mixed amphetamine salts",
          "Mixed amphetamine salts XR",
          "Lisdexamfetamine",
          "Amphetamine sulfate",
          "Atomoxetine",
          "Bupropion",
          "Guanfacine ER",
          "Clonidine ER",
          "Stimulant – Methylphenidate",
          "Stimulant – Amphetamine",
          "Non-Stimulant"
         ],
         "name": "",
         "parents": [
          "Stimulant – Methylphenidate/Methylphenidate",
          "Stimulant – Methylphenidate/Methylphenidate ER",
          "Stimulant – Methylphenidate/Methylphenidate ER",
          "Stimulant – Methylphenidate/Dexmethylphenidate",
          "Stimulant – Methylphenidate/Dexmethylphenidate XR",
          "Stimulant – Amphetamine/Mixed amphetamine salts",
          "Stimulant – Amphetamine/Mixed amphetamine salts XR",
          "Stimulant – Amphetamine/Lisdexamfetamine",
          "Stimulant – Amphetamine/Amphetamine sulfate",
          "Stimulant – Amphetamine/Mixed amphetamine salts XR",
          "Non-Stimulant/Atomoxetine",
          "Non-Stimulant/Bupropion",
          "Non-Stimulant/Guanfacine ER",
          "Non-Stimulant/Clonidine ER",
          "Stimulant – Methylphenidate",
          "Stimulant – Methylphenidate",
          "Stimulant – Methylphenidate",
          "Stimulant – Methylphenidate",
          "Stimulant – Amphetamine",
          "Stimulant – Amphetamine",
          "Stimulant – Amphetamine",
          "Stimulant – Amphetamine",
          "Non-Stimulant",
          "Non-Stimulant",
          "Non-Stimulant",
          "Non-Stimulant",
          "",
          "",
          ""
         ],
         "type": "sunburst",
         "values": {
          "bdata": "AAAAAAAACEAAAAAAAAAYQAAAAAAAACRAAAAAAAAAEEAAAAAAAAAkQAAAAAAAABBAAAAAAAAAJEAAAAAAAAAoQAAAAAAAABBAAAAAAAAAMEAAAAAAAAA4QAAAAAAAAChAAAAAAAAAOEAAAAAAAAAoQAAAAAAAAAhAAAAAAAAAMEAAAAAAAAAQQAAAAAAAACRAAAAAAAAAEEAAAAAAAAA6QAAAAAAAAChAAAAAAAAAEEAAAAAAAAA4QAAAAAAAAChAAAAAAAAAOEAAAAAAAAAoQAAAAAAAgEBAAAAAAAAAR0AAAAAAAABSQA==",
          "dtype": "f8"
         }
        }
       ],
       "layout": {
        "legend": {
         "tracegroupgap": 0
        },
        "template": {
         "data": {
          "candlestick": [
           {
            "decreasing": {
             "line": {
              "color": "#000033"
             }
            },
            "increasing": {
             "line": {
              "color": "#000032"
             }
            },
            "type": "candlestick"
           }
          ],
          "contour": [
           {
            "colorscale": [
             [
              0,
              "#000011"
             ],
             [
              0.1111111111111111,
              "#000012"
             ],
             [
              0.2222222222222222,
              "#000013"
             ],
             [
              0.3333333333333333,
              "#000014"
             ],
             [
              0.4444444444444444,
              "#000015"
             ],
             [
              0.5555555555555556,
              "#000016"
             ],
             [
              0.6666666666666666,
              "#000017"
             ],
             [
              0.7777777777777778,
              "#000018"
             ],
             [
              0.8888888888888888,
              "#000019"
             ],
             [
              1,
              "#000020"
             ]
            ],
            "type": "contour"
           }
          ],
          "contourcarpet": [
           {
            "colorscale": [
             [
              0,
              "#000011"
             ],
             [
              0.1111111111111111,
              "#000012"
             ],
             [
              0.2222222222222222,
              "#000013"
             ],
             [
              0.3333333333333333,
              "#000014"
             ],
             [
              0.4444444444444444,
              "#000015"
             ],
             [
              0.5555555555555556,
              "#000016"
             ],
             [
              0.6666666666666666,
              "#000017"
             ],
             [
              0.7777777777777778,
              "#000018"
             ],
             [
              0.8888888888888888,
              "#000019"
             ],
             [
              1,
              "#000020"
             ]
            ],
            "type": "contourcarpet"
           }
          ],
          "heatmap": [
           {
            "colorscale": [
             [
              0,
              "#000011"
             ],
             [
              0.1111111111111111,
              "#000012"
             ],
             [
              0.2222222222222222,
              "#000013"
             ],
             [
              0.3333333333333333,
              "#000014"
             ],
             [
              0.4444444444444444,
              "#000015"
             ],
             [
              0.5555555555555556,
              "#000016"
             ],
             [
              0.6666666666666666,
              "#000017"
             ],
             [
              0.7777777777777778,
              "#000018"
             ],
             [
              0.8888888888888888,
              "#000019"
             ],
             [
              1,
              "#000020"
             ]
            ],
            "type": "heatmap"
           }
          ],
          "histogram2d": [
           {
            "colorscale": [
             [
              0,
              "#000011"
             ],
             [
              0.1111111111111111,
              "#000012"
             ],
             [
              0.2222222222222222,
              "#000013"
             ],
             [
              0.3333333333333333,
              "#000014"
             ],
             [
              0.4444444444444444,
              "#000015"
             ],
             [
              0.5555555555555556,
              "#000016"
             ],
             [
              0.6666666666666666,
              "#000017"
             ],
             [
              0.7777777777777778,
              "#000018"
             ],
             [
              0.8888888888888888,
              "#000019"
             ],
             [
              1,
              "#000020"
             ]
            ],
            "type": "histogram2d"
           }
          ],
          "icicle": [
           {
            "textfont": {
             "color": "white"
            },
            "type": "icicle"
           }
          ],
          "sankey": [
           {
            "textfont": {
             "color": "#000036"
            },
            "type": "sankey"
           }
          ],
          "scatter": [
           {
            "marker": {
             "line": {
              "width": 0
             }
            },
            "type": "scatter"
           }
          ],
          "table": [
           {
            "cells": {
             "fill": {
              "color": "#000038"
             },
             "font": {
              "color": "#000037"
             },
             "line": {
              "color": "#000039"
             }
            },
            "header": {
             "fill": {
              "color": "#000040"
             },
             "font": {
              "color": "#000036"
             },
             "line": {
              "color": "#000039"
             }
            },
            "type": "table"
           }
          ],
          "waterfall": [
           {
            "connector": {
             "line": {
              "color": "#000036",
              "width": 2
             }
            },
            "decreasing": {
             "marker": {
              "color": "#000033"
             }
            },
            "increasing": {
             "marker": {
              "color": "#000032"
             }
            },
            "totals": {
             "marker": {
              "color": "#000034"
             }
            },
            "type": "waterfall"
           }
          ]
         },
         "layout": {
          "coloraxis": {
           "colorscale": [
            [
             0,
             "#000011"
            ],
            [
             0.1111111111111111,
             "#000012"
            ],
            [
             0.2222222222222222,
             "#000013"
            ],
            [
             0.3333333333333333,
             "#000014"
            ],
            [
             0.4444444444444444,
             "#000015"
            ],
            [
             0.5555555555555556,
             "#000016"
            ],
            [
             0.6666666666666666,
             "#000017"
            ],
            [
             0.7777777777777778,
             "#000018"
            ],
            [
             0.8888888888888888,
             "#000019"
            ],
            [
             1,
             "#000020"
            ]
           ]
          },
          "colorscale": {
           "diverging": [
            [
             0,
             "#000021"
            ],
            [
             0.1,
             "#000022"
            ],
            [
             0.2,
             "#000023"
            ],
            [
             0.3,
             "#000024"
            ],
            [
             0.4,
             "#000025"
            ],
            [
             0.5,
             "#000026"
            ],
            [
             0.6,
             "#000027"
            ],
            [
             0.7,
             "#000028"
            ],
            [
             0.8,
             "#000029"
            ],
            [
             0.9,
             "#000030"
            ],
            [
             1,
             "#000031"
            ]
           ],
           "sequential": [
            [
             0,
             "#000011"
            ],
            [
             0.1111111111111111,
             "#000012"
            ],
            [
             0.2222222222222222,
             "#000013"
            ],
            [
             0.3333333333333333,
             "#000014"
            ],
            [
             0.4444444444444444,
             "#000015"
            ],
            [
             0.5555555555555556,
             "#000016"
            ],
            [
             0.6666666666666666,
             "#000017"
            ],
            [
             0.7777777777777778,
             "#000018"
            ],
            [
             0.8888888888888888,
             "#000019"
            ],
            [
             1,
             "#000020"
            ]
           ],
           "sequentialminus": [
            [
             0,
             "#000011"
            ],
            [
             0.1111111111111111,
             "#000012"
            ],
            [
             0.2222222222222222,
             "#000013"
            ],
            [
             0.3333333333333333,
             "#000014"
            ],
            [
             0.4444444444444444,
             "#000015"
            ],
            [
             0.5555555555555556,
             "#000016"
            ],
            [
             0.6666666666666666,
             "#000017"
            ],
            [
             0.7777777777777778,
             "#000018"
            ],
            [
             0.8888888888888888,
             "#000019"
            ],
            [
             1,
             "#000020"
            ]
           ]
          },
          "colorway": [
           "#000001",
           "#000002",
           "#000003",
           "#000004",
           "#000005",
           "#000006",
           "#000007",
           "#000008",
           "#000009",
           "#000010"
          ]
         }
        },
        "title": {
         "text": "Medication Hierarchy (Sunburst)"
        }
       }
      }
     },
     "metadata": {},
     "output_type": "display_data"
    }
   ],
   "source": [
    "fig = px.sunburst(\n",
    "    df,\n",
    "    path=['Medication Type', 'Generic Name', 'Brand Name'],\n",
    "    values='duration_low',\n",
    "    title='Medication Hierarchy (Sunburst)'\n",
    ")\n",
    "fig.show()"
   ]
  },
  {
   "cell_type": "code",
   "execution_count": 34,
   "id": "7b4c2d4c",
   "metadata": {},
   "outputs": [
    {
     "data": {
      "application/vnd.plotly.v1+json": {
       "config": {
        "plotlyServerURL": "https://plot.ly"
       },
       "data": [
        {
         "branchvalues": "total",
         "domain": {
          "x": [
           0,
           1
          ],
          "y": [
           0,
           1
          ]
         },
         "hovertemplate": "labels=%{label}<br>duration_low=%{value}<br>parent=%{parent}<br>id=%{id}<extra></extra>",
         "ids": [
          "Stimulant – Methylphenidate/Methylphenidate/Ritalin",
          "Stimulant – Methylphenidate/Methylphenidate ER/Ritalin LA",
          "Stimulant – Methylphenidate/Methylphenidate ER/Concerta",
          "Stimulant – Methylphenidate/Dexmethylphenidate/Focalin",
          "Stimulant – Methylphenidate/Dexmethylphenidate XR/Focalin XR",
          "Stimulant – Amphetamine/Mixed amphetamine salts/Adderall",
          "Stimulant – Amphetamine/Mixed amphetamine salts XR/Adderall XR",
          "Stimulant – Amphetamine/Lisdexamfetamine/Vyvanse",
          "Stimulant – Amphetamine/Amphetamine sulfate/Evekeo",
          "Stimulant – Amphetamine/Mixed amphetamine salts XR/Mydayis",
          "Non-Stimulant/Atomoxetine/Strattera",
          "Non-Stimulant/Bupropion/Wellbutrin (off-label)",
          "Non-Stimulant/Guanfacine ER/Intuniv",
          "Non-Stimulant/Clonidine ER/Kapvay",
          "Stimulant – Methylphenidate/Methylphenidate",
          "Stimulant – Methylphenidate/Methylphenidate ER",
          "Stimulant – Methylphenidate/Dexmethylphenidate",
          "Stimulant – Methylphenidate/Dexmethylphenidate XR",
          "Stimulant – Amphetamine/Mixed amphetamine salts",
          "Stimulant – Amphetamine/Mixed amphetamine salts XR",
          "Stimulant – Amphetamine/Lisdexamfetamine",
          "Stimulant – Amphetamine/Amphetamine sulfate",
          "Non-Stimulant/Atomoxetine",
          "Non-Stimulant/Bupropion",
          "Non-Stimulant/Guanfacine ER",
          "Non-Stimulant/Clonidine ER",
          "Stimulant – Methylphenidate",
          "Stimulant – Amphetamine",
          "Non-Stimulant"
         ],
         "labels": [
          "Ritalin",
          "Ritalin LA",
          "Concerta",
          "Focalin",
          "Focalin XR",
          "Adderall",
          "Adderall XR",
          "Vyvanse",
          "Evekeo",
          "Mydayis",
          "Strattera",
          "Wellbutrin (off-label)",
          "Intuniv",
          "Kapvay",
          "Methylphenidate",
          "Methylphenidate ER",
          "Dexmethylphenidate",
          "Dexmethylphenidate XR",
          "Mixed amphetamine salts",
          "Mixed amphetamine salts XR",
          "Lisdexamfetamine",
          "Amphetamine sulfate",
          "Atomoxetine",
          "Bupropion",
          "Guanfacine ER",
          "Clonidine ER",
          "Stimulant – Methylphenidate",
          "Stimulant – Amphetamine",
          "Non-Stimulant"
         ],
         "name": "",
         "parents": [
          "Stimulant – Methylphenidate/Methylphenidate",
          "Stimulant – Methylphenidate/Methylphenidate ER",
          "Stimulant – Methylphenidate/Methylphenidate ER",
          "Stimulant – Methylphenidate/Dexmethylphenidate",
          "Stimulant – Methylphenidate/Dexmethylphenidate XR",
          "Stimulant – Amphetamine/Mixed amphetamine salts",
          "Stimulant – Amphetamine/Mixed amphetamine salts XR",
          "Stimulant – Amphetamine/Lisdexamfetamine",
          "Stimulant – Amphetamine/Amphetamine sulfate",
          "Stimulant – Amphetamine/Mixed amphetamine salts XR",
          "Non-Stimulant/Atomoxetine",
          "Non-Stimulant/Bupropion",
          "Non-Stimulant/Guanfacine ER",
          "Non-Stimulant/Clonidine ER",
          "Stimulant – Methylphenidate",
          "Stimulant – Methylphenidate",
          "Stimulant – Methylphenidate",
          "Stimulant – Methylphenidate",
          "Stimulant – Amphetamine",
          "Stimulant – Amphetamine",
          "Stimulant – Amphetamine",
          "Stimulant – Amphetamine",
          "Non-Stimulant",
          "Non-Stimulant",
          "Non-Stimulant",
          "Non-Stimulant",
          "",
          "",
          ""
         ],
         "type": "treemap",
         "values": {
          "bdata": "AAAAAAAACEAAAAAAAAAYQAAAAAAAACRAAAAAAAAAEEAAAAAAAAAkQAAAAAAAABBAAAAAAAAAJEAAAAAAAAAoQAAAAAAAABBAAAAAAAAAMEAAAAAAAAA4QAAAAAAAAChAAAAAAAAAOEAAAAAAAAAoQAAAAAAAAAhAAAAAAAAAMEAAAAAAAAAQQAAAAAAAACRAAAAAAAAAEEAAAAAAAAA6QAAAAAAAAChAAAAAAAAAEEAAAAAAAAA4QAAAAAAAAChAAAAAAAAAOEAAAAAAAAAoQAAAAAAAgEBAAAAAAAAAR0AAAAAAAABSQA==",
          "dtype": "f8"
         }
        }
       ],
       "layout": {
        "legend": {
         "tracegroupgap": 0
        },
        "template": {
         "data": {
          "candlestick": [
           {
            "decreasing": {
             "line": {
              "color": "#000033"
             }
            },
            "increasing": {
             "line": {
              "color": "#000032"
             }
            },
            "type": "candlestick"
           }
          ],
          "contour": [
           {
            "colorscale": [
             [
              0,
              "#000011"
             ],
             [
              0.1111111111111111,
              "#000012"
             ],
             [
              0.2222222222222222,
              "#000013"
             ],
             [
              0.3333333333333333,
              "#000014"
             ],
             [
              0.4444444444444444,
              "#000015"
             ],
             [
              0.5555555555555556,
              "#000016"
             ],
             [
              0.6666666666666666,
              "#000017"
             ],
             [
              0.7777777777777778,
              "#000018"
             ],
             [
              0.8888888888888888,
              "#000019"
             ],
             [
              1,
              "#000020"
             ]
            ],
            "type": "contour"
           }
          ],
          "contourcarpet": [
           {
            "colorscale": [
             [
              0,
              "#000011"
             ],
             [
              0.1111111111111111,
              "#000012"
             ],
             [
              0.2222222222222222,
              "#000013"
             ],
             [
              0.3333333333333333,
              "#000014"
             ],
             [
              0.4444444444444444,
              "#000015"
             ],
             [
              0.5555555555555556,
              "#000016"
             ],
             [
              0.6666666666666666,
              "#000017"
             ],
             [
              0.7777777777777778,
              "#000018"
             ],
             [
              0.8888888888888888,
              "#000019"
             ],
             [
              1,
              "#000020"
             ]
            ],
            "type": "contourcarpet"
           }
          ],
          "heatmap": [
           {
            "colorscale": [
             [
              0,
              "#000011"
             ],
             [
              0.1111111111111111,
              "#000012"
             ],
             [
              0.2222222222222222,
              "#000013"
             ],
             [
              0.3333333333333333,
              "#000014"
             ],
             [
              0.4444444444444444,
              "#000015"
             ],
             [
              0.5555555555555556,
              "#000016"
             ],
             [
              0.6666666666666666,
              "#000017"
             ],
             [
              0.7777777777777778,
              "#000018"
             ],
             [
              0.8888888888888888,
              "#000019"
             ],
             [
              1,
              "#000020"
             ]
            ],
            "type": "heatmap"
           }
          ],
          "histogram2d": [
           {
            "colorscale": [
             [
              0,
              "#000011"
             ],
             [
              0.1111111111111111,
              "#000012"
             ],
             [
              0.2222222222222222,
              "#000013"
             ],
             [
              0.3333333333333333,
              "#000014"
             ],
             [
              0.4444444444444444,
              "#000015"
             ],
             [
              0.5555555555555556,
              "#000016"
             ],
             [
              0.6666666666666666,
              "#000017"
             ],
             [
              0.7777777777777778,
              "#000018"
             ],
             [
              0.8888888888888888,
              "#000019"
             ],
             [
              1,
              "#000020"
             ]
            ],
            "type": "histogram2d"
           }
          ],
          "icicle": [
           {
            "textfont": {
             "color": "white"
            },
            "type": "icicle"
           }
          ],
          "sankey": [
           {
            "textfont": {
             "color": "#000036"
            },
            "type": "sankey"
           }
          ],
          "scatter": [
           {
            "marker": {
             "line": {
              "width": 0
             }
            },
            "type": "scatter"
           }
          ],
          "table": [
           {
            "cells": {
             "fill": {
              "color": "#000038"
             },
             "font": {
              "color": "#000037"
             },
             "line": {
              "color": "#000039"
             }
            },
            "header": {
             "fill": {
              "color": "#000040"
             },
             "font": {
              "color": "#000036"
             },
             "line": {
              "color": "#000039"
             }
            },
            "type": "table"
           }
          ],
          "waterfall": [
           {
            "connector": {
             "line": {
              "color": "#000036",
              "width": 2
             }
            },
            "decreasing": {
             "marker": {
              "color": "#000033"
             }
            },
            "increasing": {
             "marker": {
              "color": "#000032"
             }
            },
            "totals": {
             "marker": {
              "color": "#000034"
             }
            },
            "type": "waterfall"
           }
          ]
         },
         "layout": {
          "coloraxis": {
           "colorscale": [
            [
             0,
             "#000011"
            ],
            [
             0.1111111111111111,
             "#000012"
            ],
            [
             0.2222222222222222,
             "#000013"
            ],
            [
             0.3333333333333333,
             "#000014"
            ],
            [
             0.4444444444444444,
             "#000015"
            ],
            [
             0.5555555555555556,
             "#000016"
            ],
            [
             0.6666666666666666,
             "#000017"
            ],
            [
             0.7777777777777778,
             "#000018"
            ],
            [
             0.8888888888888888,
             "#000019"
            ],
            [
             1,
             "#000020"
            ]
           ]
          },
          "colorscale": {
           "diverging": [
            [
             0,
             "#000021"
            ],
            [
             0.1,
             "#000022"
            ],
            [
             0.2,
             "#000023"
            ],
            [
             0.3,
             "#000024"
            ],
            [
             0.4,
             "#000025"
            ],
            [
             0.5,
             "#000026"
            ],
            [
             0.6,
             "#000027"
            ],
            [
             0.7,
             "#000028"
            ],
            [
             0.8,
             "#000029"
            ],
            [
             0.9,
             "#000030"
            ],
            [
             1,
             "#000031"
            ]
           ],
           "sequential": [
            [
             0,
             "#000011"
            ],
            [
             0.1111111111111111,
             "#000012"
            ],
            [
             0.2222222222222222,
             "#000013"
            ],
            [
             0.3333333333333333,
             "#000014"
            ],
            [
             0.4444444444444444,
             "#000015"
            ],
            [
             0.5555555555555556,
             "#000016"
            ],
            [
             0.6666666666666666,
             "#000017"
            ],
            [
             0.7777777777777778,
             "#000018"
            ],
            [
             0.8888888888888888,
             "#000019"
            ],
            [
             1,
             "#000020"
            ]
           ],
           "sequentialminus": [
            [
             0,
             "#000011"
            ],
            [
             0.1111111111111111,
             "#000012"
            ],
            [
             0.2222222222222222,
             "#000013"
            ],
            [
             0.3333333333333333,
             "#000014"
            ],
            [
             0.4444444444444444,
             "#000015"
            ],
            [
             0.5555555555555556,
             "#000016"
            ],
            [
             0.6666666666666666,
             "#000017"
            ],
            [
             0.7777777777777778,
             "#000018"
            ],
            [
             0.8888888888888888,
             "#000019"
            ],
            [
             1,
             "#000020"
            ]
           ]
          },
          "colorway": [
           "#000001",
           "#000002",
           "#000003",
           "#000004",
           "#000005",
           "#000006",
           "#000007",
           "#000008",
           "#000009",
           "#000010"
          ]
         }
        },
        "title": {
         "text": "Medication Hierarchy (Treemap)"
        }
       }
      }
     },
     "metadata": {},
     "output_type": "display_data"
    }
   ],
   "source": [
    "fig = px.treemap(\n",
    "    df,\n",
    "    path=['Medication Type', 'Generic Name', 'Brand Name'],\n",
    "    values='duration_low',\n",
    "    title='Medication Hierarchy (Treemap)'\n",
    ")\n",
    "fig.show()\n"
   ]
  },
  {
   "cell_type": "code",
   "execution_count": 36,
   "id": "18e1f27a",
   "metadata": {},
   "outputs": [
    {
     "data": {
      "application/vnd.plotly.v1+json": {
       "config": {
        "plotlyServerURL": "https://plot.ly"
       },
       "data": [
        {
         "hovertemplate": "Medication Type=Stimulant – Methylphenidate<br>Generic Name=%{x}<br>duration_low=%{y}<extra></extra>",
         "legendgroup": "Stimulant – Methylphenidate",
         "marker": {
          "color": "#000001",
          "pattern": {
           "shape": ""
          }
         },
         "name": "Stimulant – Methylphenidate",
         "orientation": "v",
         "showlegend": true,
         "textposition": "auto",
         "type": "bar",
         "x": [
          "Methylphenidate",
          "Methylphenidate ER",
          "Methylphenidate ER",
          "Dexmethylphenidate",
          "Dexmethylphenidate XR"
         ],
         "xaxis": "x",
         "y": {
          "bdata": "AAAAAAAACEAAAAAAAAAYQAAAAAAAACRAAAAAAAAAEEAAAAAAAAAkQA==",
          "dtype": "f8"
         },
         "yaxis": "y"
        },
        {
         "hovertemplate": "Medication Type=Stimulant – Amphetamine<br>Generic Name=%{x}<br>duration_low=%{y}<extra></extra>",
         "legendgroup": "Stimulant – Amphetamine",
         "marker": {
          "color": "#000002",
          "pattern": {
           "shape": ""
          }
         },
         "name": "Stimulant – Amphetamine",
         "orientation": "v",
         "showlegend": true,
         "textposition": "auto",
         "type": "bar",
         "x": [
          "Mixed amphetamine salts",
          "Mixed amphetamine salts XR",
          "Lisdexamfetamine",
          "Amphetamine sulfate",
          "Mixed amphetamine salts XR"
         ],
         "xaxis": "x2",
         "y": {
          "bdata": "AAAAAAAAEEAAAAAAAAAkQAAAAAAAAChAAAAAAAAAEEAAAAAAAAAwQA==",
          "dtype": "f8"
         },
         "yaxis": "y2"
        },
        {
         "hovertemplate": "Medication Type=Non-Stimulant<br>Generic Name=%{x}<br>duration_low=%{y}<extra></extra>",
         "legendgroup": "Non-Stimulant",
         "marker": {
          "color": "#000003",
          "pattern": {
           "shape": ""
          }
         },
         "name": "Non-Stimulant",
         "orientation": "v",
         "showlegend": true,
         "textposition": "auto",
         "type": "bar",
         "x": [
          "Atomoxetine",
          "Bupropion",
          "Guanfacine ER",
          "Clonidine ER"
         ],
         "xaxis": "x3",
         "y": {
          "bdata": "AAAAAAAAOEAAAAAAAAAoQAAAAAAAADhAAAAAAAAAKEA=",
          "dtype": "f8"
         },
         "yaxis": "y3"
        }
       ],
       "layout": {
        "annotations": [
         {
          "font": {},
          "showarrow": false,
          "text": "Medication Type=Stimulant – Methylphenidate",
          "x": 0.15999999999999998,
          "xanchor": "center",
          "xref": "paper",
          "y": 1,
          "yanchor": "bottom",
          "yref": "paper"
         },
         {
          "font": {},
          "showarrow": false,
          "text": "Medication Type=Stimulant – Amphetamine",
          "x": 0.49999999999999994,
          "xanchor": "center",
          "xref": "paper",
          "y": 1,
          "yanchor": "bottom",
          "yref": "paper"
         },
         {
          "font": {},
          "showarrow": false,
          "text": "Medication Type=Non-Stimulant",
          "x": 0.8399999999999999,
          "xanchor": "center",
          "xref": "paper",
          "y": 1,
          "yanchor": "bottom",
          "yref": "paper"
         }
        ],
        "barmode": "relative",
        "legend": {
         "title": {
          "text": "Medication Type"
         },
         "tracegroupgap": 0
        },
        "template": {
         "data": {
          "candlestick": [
           {
            "decreasing": {
             "line": {
              "color": "#000033"
             }
            },
            "increasing": {
             "line": {
              "color": "#000032"
             }
            },
            "type": "candlestick"
           }
          ],
          "contour": [
           {
            "colorscale": [
             [
              0,
              "#000011"
             ],
             [
              0.1111111111111111,
              "#000012"
             ],
             [
              0.2222222222222222,
              "#000013"
             ],
             [
              0.3333333333333333,
              "#000014"
             ],
             [
              0.4444444444444444,
              "#000015"
             ],
             [
              0.5555555555555556,
              "#000016"
             ],
             [
              0.6666666666666666,
              "#000017"
             ],
             [
              0.7777777777777778,
              "#000018"
             ],
             [
              0.8888888888888888,
              "#000019"
             ],
             [
              1,
              "#000020"
             ]
            ],
            "type": "contour"
           }
          ],
          "contourcarpet": [
           {
            "colorscale": [
             [
              0,
              "#000011"
             ],
             [
              0.1111111111111111,
              "#000012"
             ],
             [
              0.2222222222222222,
              "#000013"
             ],
             [
              0.3333333333333333,
              "#000014"
             ],
             [
              0.4444444444444444,
              "#000015"
             ],
             [
              0.5555555555555556,
              "#000016"
             ],
             [
              0.6666666666666666,
              "#000017"
             ],
             [
              0.7777777777777778,
              "#000018"
             ],
             [
              0.8888888888888888,
              "#000019"
             ],
             [
              1,
              "#000020"
             ]
            ],
            "type": "contourcarpet"
           }
          ],
          "heatmap": [
           {
            "colorscale": [
             [
              0,
              "#000011"
             ],
             [
              0.1111111111111111,
              "#000012"
             ],
             [
              0.2222222222222222,
              "#000013"
             ],
             [
              0.3333333333333333,
              "#000014"
             ],
             [
              0.4444444444444444,
              "#000015"
             ],
             [
              0.5555555555555556,
              "#000016"
             ],
             [
              0.6666666666666666,
              "#000017"
             ],
             [
              0.7777777777777778,
              "#000018"
             ],
             [
              0.8888888888888888,
              "#000019"
             ],
             [
              1,
              "#000020"
             ]
            ],
            "type": "heatmap"
           }
          ],
          "histogram2d": [
           {
            "colorscale": [
             [
              0,
              "#000011"
             ],
             [
              0.1111111111111111,
              "#000012"
             ],
             [
              0.2222222222222222,
              "#000013"
             ],
             [
              0.3333333333333333,
              "#000014"
             ],
             [
              0.4444444444444444,
              "#000015"
             ],
             [
              0.5555555555555556,
              "#000016"
             ],
             [
              0.6666666666666666,
              "#000017"
             ],
             [
              0.7777777777777778,
              "#000018"
             ],
             [
              0.8888888888888888,
              "#000019"
             ],
             [
              1,
              "#000020"
             ]
            ],
            "type": "histogram2d"
           }
          ],
          "icicle": [
           {
            "textfont": {
             "color": "white"
            },
            "type": "icicle"
           }
          ],
          "sankey": [
           {
            "textfont": {
             "color": "#000036"
            },
            "type": "sankey"
           }
          ],
          "scatter": [
           {
            "marker": {
             "line": {
              "width": 0
             }
            },
            "type": "scatter"
           }
          ],
          "table": [
           {
            "cells": {
             "fill": {
              "color": "#000038"
             },
             "font": {
              "color": "#000037"
             },
             "line": {
              "color": "#000039"
             }
            },
            "header": {
             "fill": {
              "color": "#000040"
             },
             "font": {
              "color": "#000036"
             },
             "line": {
              "color": "#000039"
             }
            },
            "type": "table"
           }
          ],
          "waterfall": [
           {
            "connector": {
             "line": {
              "color": "#000036",
              "width": 2
             }
            },
            "decreasing": {
             "marker": {
              "color": "#000033"
             }
            },
            "increasing": {
             "marker": {
              "color": "#000032"
             }
            },
            "totals": {
             "marker": {
              "color": "#000034"
             }
            },
            "type": "waterfall"
           }
          ]
         },
         "layout": {
          "coloraxis": {
           "colorscale": [
            [
             0,
             "#000011"
            ],
            [
             0.1111111111111111,
             "#000012"
            ],
            [
             0.2222222222222222,
             "#000013"
            ],
            [
             0.3333333333333333,
             "#000014"
            ],
            [
             0.4444444444444444,
             "#000015"
            ],
            [
             0.5555555555555556,
             "#000016"
            ],
            [
             0.6666666666666666,
             "#000017"
            ],
            [
             0.7777777777777778,
             "#000018"
            ],
            [
             0.8888888888888888,
             "#000019"
            ],
            [
             1,
             "#000020"
            ]
           ]
          },
          "colorscale": {
           "diverging": [
            [
             0,
             "#000021"
            ],
            [
             0.1,
             "#000022"
            ],
            [
             0.2,
             "#000023"
            ],
            [
             0.3,
             "#000024"
            ],
            [
             0.4,
             "#000025"
            ],
            [
             0.5,
             "#000026"
            ],
            [
             0.6,
             "#000027"
            ],
            [
             0.7,
             "#000028"
            ],
            [
             0.8,
             "#000029"
            ],
            [
             0.9,
             "#000030"
            ],
            [
             1,
             "#000031"
            ]
           ],
           "sequential": [
            [
             0,
             "#000011"
            ],
            [
             0.1111111111111111,
             "#000012"
            ],
            [
             0.2222222222222222,
             "#000013"
            ],
            [
             0.3333333333333333,
             "#000014"
            ],
            [
             0.4444444444444444,
             "#000015"
            ],
            [
             0.5555555555555556,
             "#000016"
            ],
            [
             0.6666666666666666,
             "#000017"
            ],
            [
             0.7777777777777778,
             "#000018"
            ],
            [
             0.8888888888888888,
             "#000019"
            ],
            [
             1,
             "#000020"
            ]
           ],
           "sequentialminus": [
            [
             0,
             "#000011"
            ],
            [
             0.1111111111111111,
             "#000012"
            ],
            [
             0.2222222222222222,
             "#000013"
            ],
            [
             0.3333333333333333,
             "#000014"
            ],
            [
             0.4444444444444444,
             "#000015"
            ],
            [
             0.5555555555555556,
             "#000016"
            ],
            [
             0.6666666666666666,
             "#000017"
            ],
            [
             0.7777777777777778,
             "#000018"
            ],
            [
             0.8888888888888888,
             "#000019"
            ],
            [
             1,
             "#000020"
            ]
           ]
          },
          "colorway": [
           "#000001",
           "#000002",
           "#000003",
           "#000004",
           "#000005",
           "#000006",
           "#000007",
           "#000008",
           "#000009",
           "#000010"
          ]
         }
        },
        "title": {
         "text": "Count by Generic Name and Medication Type"
        },
        "xaxis": {
         "anchor": "y",
         "domain": [
          0,
          0.31999999999999995
         ],
         "title": {
          "text": "Generic Name"
         }
        },
        "xaxis2": {
         "anchor": "y2",
         "domain": [
          0.33999999999999997,
          0.6599999999999999
         ],
         "matches": "x",
         "title": {
          "text": "Generic Name"
         }
        },
        "xaxis3": {
         "anchor": "y3",
         "domain": [
          0.6799999999999999,
          0.9999999999999999
         ],
         "matches": "x",
         "title": {
          "text": "Generic Name"
         }
        },
        "yaxis": {
         "anchor": "x",
         "domain": [
          0,
          1
         ],
         "title": {
          "text": "duration_low"
         }
        },
        "yaxis2": {
         "anchor": "x2",
         "domain": [
          0,
          1
         ],
         "matches": "y",
         "showticklabels": false
        },
        "yaxis3": {
         "anchor": "x3",
         "domain": [
          0,
          1
         ],
         "matches": "y",
         "showticklabels": false
        }
       }
      }
     },
     "metadata": {},
     "output_type": "display_data"
    }
   ],
   "source": [
    "fig = px.bar(\n",
    "    df,\n",
    "    x='Generic Name',\n",
    "    y='duration_low',\n",
    "    color='Medication Type',\n",
    "    facet_col='Medication Type',\n",
    "    title='Count by Generic Name and Medication Type'\n",
    ")\n",
    "fig.show()\n"
   ]
  },
  {
   "cell_type": "code",
   "execution_count": 8,
   "id": "3b0f88e4",
   "metadata": {},
   "outputs": [],
   "source": [
    "# clean and consolidate columns\n",
    "res = []\n",
    "for x in df['Medication Type'].tolist():\n",
    "    if x != 'Non-Stimulant':\n",
    "        res.append('Stimulant')\n",
    "    else:\n",
    "        res.append('Non-Stimulant')\n",
    "\n",
    "df['Medication Type'] = res\n"
   ]
  },
  {
   "cell_type": "code",
   "execution_count": 9,
   "id": "abcc1f10",
   "metadata": {},
   "outputs": [],
   "source": [
    "res = []\n",
    "for x in df['Generic Name'].tolist():\n",
    "    if 'amphetamine' in x.lower():\n",
    "        res.append('Amphetamine')\n",
    "    elif 'Methylphenidate' in x:\n",
    "        res.append('Methylphenidate')\n",
    "    elif 'Dexmethylphenidate' in x:\n",
    "        res.append('Dexmethylphenidate')\n",
    "    else:\n",
    "        res.append(x)\n",
    "\n",
    "df['Generic Name'] = res"
   ]
  },
  {
   "cell_type": "code",
   "execution_count": 10,
   "id": "19dc1a83",
   "metadata": {},
   "outputs": [],
   "source": [
    "table = df.set_index(['Medication Type', 'Generic Name']).iloc[:, :-3].sort_index().T"
   ]
  },
  {
   "cell_type": "code",
   "execution_count": 11,
   "id": "49adbb92",
   "metadata": {},
   "outputs": [
    {
     "data": {
      "text/html": [
       "<div>\n",
       "<style scoped>\n",
       "    .dataframe tbody tr th:only-of-type {\n",
       "        vertical-align: middle;\n",
       "    }\n",
       "\n",
       "    .dataframe tbody tr th {\n",
       "        vertical-align: top;\n",
       "    }\n",
       "\n",
       "    .dataframe thead tr th {\n",
       "        text-align: left;\n",
       "    }\n",
       "</style>\n",
       "<table border=\"1\" class=\"dataframe\">\n",
       "  <thead>\n",
       "    <tr>\n",
       "      <th>Medication Type</th>\n",
       "      <th colspan=\"4\" halign=\"left\">Non-Stimulant</th>\n",
       "      <th colspan=\"10\" halign=\"left\">Stimulant</th>\n",
       "    </tr>\n",
       "    <tr>\n",
       "      <th>Generic Name</th>\n",
       "      <th>Atomoxetine</th>\n",
       "      <th>Bupropion</th>\n",
       "      <th>Clonidine ER</th>\n",
       "      <th>Guanfacine ER</th>\n",
       "      <th>Amphetamine</th>\n",
       "      <th>Amphetamine</th>\n",
       "      <th>Amphetamine</th>\n",
       "      <th>Amphetamine</th>\n",
       "      <th>Dexmethylphenidate</th>\n",
       "      <th>Dexmethylphenidate</th>\n",
       "      <th>Lisdexamfetamine</th>\n",
       "      <th>Methylphenidate</th>\n",
       "      <th>Methylphenidate</th>\n",
       "      <th>Methylphenidate</th>\n",
       "    </tr>\n",
       "  </thead>\n",
       "  <tbody>\n",
       "    <tr>\n",
       "      <th>Brand Name</th>\n",
       "      <td>Strattera</td>\n",
       "      <td>Wellbutrin (off-label)</td>\n",
       "      <td>Kapvay</td>\n",
       "      <td>Intuniv</td>\n",
       "      <td>Adderall</td>\n",
       "      <td>Adderall XR</td>\n",
       "      <td>Evekeo</td>\n",
       "      <td>Mydayis</td>\n",
       "      <td>Focalin</td>\n",
       "      <td>Focalin XR</td>\n",
       "      <td>Vyvanse</td>\n",
       "      <td>Ritalin</td>\n",
       "      <td>Ritalin LA</td>\n",
       "      <td>Concerta</td>\n",
       "    </tr>\n",
       "    <tr>\n",
       "      <th>Duration</th>\n",
       "      <td>24 hrs</td>\n",
       "      <td>12–24 hrs</td>\n",
       "      <td>12–24 hrs</td>\n",
       "      <td>24 hrs</td>\n",
       "      <td>Short (4–6 hrs)</td>\n",
       "      <td>Long (10–12 hrs)</td>\n",
       "      <td>Short (4–6 hrs)</td>\n",
       "      <td>Very Long (16 hrs)</td>\n",
       "      <td>Short (4–6 hrs)</td>\n",
       "      <td>Long (10–12 hrs)</td>\n",
       "      <td>Long (12–14 hrs)</td>\n",
       "      <td>Short (3–5 hrs)</td>\n",
       "      <td>Long (6–8 hrs)</td>\n",
       "      <td>Long (10–12 hrs)</td>\n",
       "    </tr>\n",
       "    <tr>\n",
       "      <th>Mechanism of Action</th>\n",
       "      <td>Norepinephrine reuptake inhibitor</td>\n",
       "      <td>Dopamine + norepinephrine reuptake</td>\n",
       "      <td>Alpha-2 adrenergic agonist</td>\n",
       "      <td>Alpha-2A adrenergic agonist</td>\n",
       "      <td>Increases dopamine &amp; norepinephrine</td>\n",
       "      <td>Gradual release beads</td>\n",
       "      <td>Stimulant effect</td>\n",
       "      <td>Triple-bead release</td>\n",
       "      <td>Dopamine reuptake inhibitor</td>\n",
       "      <td>Same as above</td>\n",
       "      <td>Prodrug activated in body</td>\n",
       "      <td>Increases dopamine &amp; norepinephrine</td>\n",
       "      <td>Same as above</td>\n",
       "      <td>Osmotic release delivery</td>\n",
       "    </tr>\n",
       "    <tr>\n",
       "      <th>Common Side Effects</th>\n",
       "      <td>Fatigue, nausea, decreased libido</td>\n",
       "      <td>Dry mouth, anxiety, insomnia</td>\n",
       "      <td>Fatigue, constipation</td>\n",
       "      <td>Drowsiness, low blood pressure</td>\n",
       "      <td>Increased heart rate, irritability, insomnia</td>\n",
       "      <td>Insomnia, dry mouth</td>\n",
       "      <td>Dizziness, agitation</td>\n",
       "      <td>Sleep issues, decreased appetite</td>\n",
       "      <td>Appetite loss, restlessness</td>\n",
       "      <td>Mood changes, insomnia</td>\n",
       "      <td>Jitteriness, nausea</td>\n",
       "      <td>Insomnia, anxiety, decreased appetite</td>\n",
       "      <td>Nervousness, headache</td>\n",
       "      <td>Irritability, dry mouth</td>\n",
       "    </tr>\n",
       "  </tbody>\n",
       "</table>\n",
       "</div>"
      ],
      "text/plain": [
       "Medication Type                          Non-Stimulant  \\\n",
       "Generic Name                               Atomoxetine   \n",
       "Brand Name                                   Strattera   \n",
       "Duration                                        24 hrs   \n",
       "Mechanism of Action  Norepinephrine reuptake inhibitor   \n",
       "Common Side Effects  Fatigue, nausea, decreased libido   \n",
       "\n",
       "Medication Type                                          \\\n",
       "Generic Name                                  Bupropion   \n",
       "Brand Name                       Wellbutrin (off-label)   \n",
       "Duration                                      12–24 hrs   \n",
       "Mechanism of Action  Dopamine + norepinephrine reuptake   \n",
       "Common Side Effects        Dry mouth, anxiety, insomnia   \n",
       "\n",
       "Medication Type                                  \\\n",
       "Generic Name                       Clonidine ER   \n",
       "Brand Name                               Kapvay   \n",
       "Duration                              12–24 hrs   \n",
       "Mechanism of Action  Alpha-2 adrenergic agonist   \n",
       "Common Side Effects       Fatigue, constipation   \n",
       "\n",
       "Medication Type                                      \\\n",
       "Generic Name                          Guanfacine ER   \n",
       "Brand Name                                  Intuniv   \n",
       "Duration                                     24 hrs   \n",
       "Mechanism of Action     Alpha-2A adrenergic agonist   \n",
       "Common Side Effects  Drowsiness, low blood pressure   \n",
       "\n",
       "Medication Type                                         Stimulant  \\\n",
       "Generic Name                                          Amphetamine   \n",
       "Brand Name                                               Adderall   \n",
       "Duration                                          Short (4–6 hrs)   \n",
       "Mechanism of Action           Increases dopamine & norepinephrine   \n",
       "Common Side Effects  Increased heart rate, irritability, insomnia   \n",
       "\n",
       "Medication Type                                                   \\\n",
       "Generic Name                   Amphetamine           Amphetamine   \n",
       "Brand Name                     Adderall XR                Evekeo   \n",
       "Duration                  Long (10–12 hrs)       Short (4–6 hrs)   \n",
       "Mechanism of Action  Gradual release beads      Stimulant effect   \n",
       "Common Side Effects    Insomnia, dry mouth  Dizziness, agitation   \n",
       "\n",
       "Medication Type                                        \\\n",
       "Generic Name                              Amphetamine   \n",
       "Brand Name                                    Mydayis   \n",
       "Duration                           Very Long (16 hrs)   \n",
       "Mechanism of Action               Triple-bead release   \n",
       "Common Side Effects  Sleep issues, decreased appetite   \n",
       "\n",
       "Medication Type                                                           \\\n",
       "Generic Name                  Dexmethylphenidate      Dexmethylphenidate   \n",
       "Brand Name                               Focalin              Focalin XR   \n",
       "Duration                         Short (4–6 hrs)        Long (10–12 hrs)   \n",
       "Mechanism of Action  Dopamine reuptake inhibitor           Same as above   \n",
       "Common Side Effects  Appetite loss, restlessness  Mood changes, insomnia   \n",
       "\n",
       "Medication Type                                 \\\n",
       "Generic Name                  Lisdexamfetamine   \n",
       "Brand Name                             Vyvanse   \n",
       "Duration                      Long (12–14 hrs)   \n",
       "Mechanism of Action  Prodrug activated in body   \n",
       "Common Side Effects        Jitteriness, nausea   \n",
       "\n",
       "Medication Type                                             \\\n",
       "Generic Name                               Methylphenidate   \n",
       "Brand Name                                         Ritalin   \n",
       "Duration                                   Short (3–5 hrs)   \n",
       "Mechanism of Action    Increases dopamine & norepinephrine   \n",
       "Common Side Effects  Insomnia, anxiety, decreased appetite   \n",
       "\n",
       "Medication Type                                                       \n",
       "Generic Name               Methylphenidate           Methylphenidate  \n",
       "Brand Name                      Ritalin LA                  Concerta  \n",
       "Duration                    Long (6–8 hrs)          Long (10–12 hrs)  \n",
       "Mechanism of Action          Same as above  Osmotic release delivery  \n",
       "Common Side Effects  Nervousness, headache   Irritability, dry mouth  "
      ]
     },
     "execution_count": 11,
     "metadata": {},
     "output_type": "execute_result"
    }
   ],
   "source": [
    "table"
   ]
  },
  {
   "cell_type": "code",
   "execution_count": 15,
   "id": "c11e6623",
   "metadata": {},
   "outputs": [],
   "source": [
    "import plotly.figure_factory as ff"
   ]
  },
  {
   "cell_type": "code",
   "execution_count": 26,
   "id": "76eeb2d2",
   "metadata": {},
   "outputs": [
    {
     "ename": "ValueError",
     "evalue": "\n    Invalid value of type 'builtins.str' received for the 'height' property of table.cells\n        Received value: 'text'\n\n    The 'height' property is a number and may be specified as:\n      - An int or float",
     "output_type": "error",
     "traceback": [
      "\u001b[31m---------------------------------------------------------------------------\u001b[39m",
      "\u001b[31mValueError\u001b[39m                                Traceback (most recent call last)",
      "\u001b[36mCell\u001b[39m\u001b[36m \u001b[39m\u001b[32mIn[26]\u001b[39m\u001b[32m, line 3\u001b[39m\n\u001b[32m      1\u001b[39m \u001b[38;5;28;01mimport\u001b[39;00m\u001b[38;5;250m \u001b[39m\u001b[34;01mplotly\u001b[39;00m\u001b[34;01m.\u001b[39;00m\u001b[34;01mgraph_objects\u001b[39;00m\u001b[38;5;250m \u001b[39m\u001b[38;5;28;01mas\u001b[39;00m\u001b[38;5;250m \u001b[39m\u001b[34;01mgo\u001b[39;00m\n\u001b[32m----> \u001b[39m\u001b[32m3\u001b[39m fig = go.Figure(data=[\u001b[43mgo\u001b[49m\u001b[43m.\u001b[49m\u001b[43mTable\u001b[49m\u001b[43m(\u001b[49m\n\u001b[32m      4\u001b[39m \u001b[43m    \u001b[49m\u001b[43mheader\u001b[49m\u001b[43m=\u001b[49m\u001b[38;5;28;43mdict\u001b[39;49m\u001b[43m(\u001b[49m\u001b[43mvalues\u001b[49m\u001b[43m=\u001b[49m\u001b[43m[\u001b[49m\u001b[33;43m\"\u001b[39;49m\u001b[33;43mMedication\u001b[39;49m\u001b[33;43m\"\u001b[39;49m\u001b[43m,\u001b[49m\u001b[43m \u001b[49m\u001b[33;43m\"\u001b[39;49m\u001b[33;43mType\u001b[39;49m\u001b[33;43m\"\u001b[39;49m\u001b[43m]\u001b[49m\u001b[43m)\u001b[49m\u001b[43m,\u001b[49m\n\u001b[32m      5\u001b[39m \u001b[43m    \u001b[49m\u001b[43mcells\u001b[49m\u001b[43m=\u001b[49m\u001b[38;5;28;43mdict\u001b[39;49m\u001b[43m(\u001b[49m\n\u001b[32m      6\u001b[39m \u001b[43m        \u001b[49m\u001b[43mvalues\u001b[49m\u001b[43m=\u001b[49m\u001b[43m[\u001b[49m\n\u001b[32m      7\u001b[39m \u001b[43m            \u001b[49m\u001b[43m[\u001b[49m\u001b[33;43m\"\u001b[39;49m\u001b[33;43mRitalin\u001b[39;49m\u001b[33;43m\"\u001b[39;49m\u001b[43m,\u001b[49m\u001b[43m \u001b[49m\u001b[33;43m\"\u001b[39;49m\u001b[33;43mRitalin LA\u001b[39;49m\u001b[33;43m\"\u001b[39;49m\u001b[43m]\u001b[49m\u001b[43m,\u001b[49m\n\u001b[32m      8\u001b[39m \u001b[43m            \u001b[49m\u001b[43m[\u001b[49m\u001b[33;43m\"\u001b[39;49m\u001b[33;43mStimulant\u001b[39;49m\u001b[33;43m\"\u001b[39;49m\u001b[43m,\u001b[49m\u001b[43m \u001b[49m\u001b[33;43m\"\u001b[39;49m\u001b[33;43mLong-acting Stimulant\u001b[39;49m\u001b[33;43m\"\u001b[39;49m\u001b[43m]\u001b[49m\n\u001b[32m      9\u001b[39m \u001b[43m        \u001b[49m\u001b[43m]\u001b[49m\u001b[43m,\u001b[49m\n\u001b[32m     10\u001b[39m \u001b[43m        \u001b[49m\u001b[38;5;28;43mformat\u001b[39;49m\u001b[43m=\u001b[49m\u001b[43m[\u001b[49m\n\u001b[32m     11\u001b[39m \u001b[43m            \u001b[49m\u001b[43m[\u001b[49m\u001b[33;43m\"\u001b[39;49m\u001b[33;43mUsed to treat ADHD\u001b[39;49m\u001b[33;43m\"\u001b[39;49m\u001b[43m,\u001b[49m\u001b[43m \u001b[49m\u001b[33;43m\"\u001b[39;49m\u001b[33;43mExtended-release form\u001b[39;49m\u001b[33;43m\"\u001b[39;49m\u001b[43m]\u001b[49m\u001b[43m,\u001b[49m\n\u001b[32m     12\u001b[39m \u001b[43m            \u001b[49m\u001b[43m[\u001b[49m\u001b[33;43m\"\u001b[39;49m\u001b[33;43mShort acting\u001b[39;49m\u001b[33;43m\"\u001b[39;49m\u001b[43m,\u001b[49m\u001b[43m \u001b[49m\u001b[33;43m\"\u001b[39;49m\u001b[33;43mLasts longer in system\u001b[39;49m\u001b[33;43m\"\u001b[39;49m\u001b[43m]\u001b[49m\n\u001b[32m     13\u001b[39m \u001b[43m        \u001b[49m\u001b[43m]\u001b[49m\u001b[43m,\u001b[49m\n\u001b[32m     14\u001b[39m \u001b[43m        \u001b[49m\u001b[43mheight\u001b[49m\u001b[43m=\u001b[49m\u001b[33;43m\"\u001b[39;49m\u001b[33;43mtext\u001b[39;49m\u001b[33;43m\"\u001b[39;49m\n\u001b[32m     15\u001b[39m \u001b[43m    \u001b[49m\u001b[43m)\u001b[49m\n\u001b[32m     16\u001b[39m \u001b[43m)\u001b[49m])\n\u001b[32m     18\u001b[39m fig.show()\n",
      "\u001b[36mFile \u001b[39m\u001b[32m~/Desktop/adhd_meds_dash/venv/lib/python3.12/site-packages/plotly/graph_objs/_table.py:879\u001b[39m, in \u001b[36mTable.__init__\u001b[39m\u001b[34m(self, arg, cells, columnorder, columnordersrc, columnwidth, columnwidthsrc, customdata, customdatasrc, domain, header, hoverinfo, hoverinfosrc, hoverlabel, ids, idssrc, legend, legendgrouptitle, legendrank, legendwidth, meta, metasrc, name, stream, uid, uirevision, visible, **kwargs)\u001b[39m\n\u001b[32m    876\u001b[39m \u001b[38;5;28mself\u001b[39m._skip_invalid = kwargs.pop(\u001b[33m\"\u001b[39m\u001b[33mskip_invalid\u001b[39m\u001b[33m\"\u001b[39m, \u001b[38;5;28;01mFalse\u001b[39;00m)\n\u001b[32m    877\u001b[39m \u001b[38;5;28mself\u001b[39m._validate = kwargs.pop(\u001b[33m\"\u001b[39m\u001b[33m_validate\u001b[39m\u001b[33m\"\u001b[39m, \u001b[38;5;28;01mTrue\u001b[39;00m)\n\u001b[32m--> \u001b[39m\u001b[32m879\u001b[39m \u001b[38;5;28;43mself\u001b[39;49m\u001b[43m.\u001b[49m\u001b[43m_set_property\u001b[49m\u001b[43m(\u001b[49m\u001b[33;43m\"\u001b[39;49m\u001b[33;43mcells\u001b[39;49m\u001b[33;43m\"\u001b[39;49m\u001b[43m,\u001b[49m\u001b[43m \u001b[49m\u001b[43marg\u001b[49m\u001b[43m,\u001b[49m\u001b[43m \u001b[49m\u001b[43mcells\u001b[49m\u001b[43m)\u001b[49m\n\u001b[32m    880\u001b[39m \u001b[38;5;28mself\u001b[39m._set_property(\u001b[33m\"\u001b[39m\u001b[33mcolumnorder\u001b[39m\u001b[33m\"\u001b[39m, arg, columnorder)\n\u001b[32m    881\u001b[39m \u001b[38;5;28mself\u001b[39m._set_property(\u001b[33m\"\u001b[39m\u001b[33mcolumnordersrc\u001b[39m\u001b[33m\"\u001b[39m, arg, columnordersrc)\n",
      "\u001b[36mFile \u001b[39m\u001b[32m~/Desktop/adhd_meds_dash/venv/lib/python3.12/site-packages/plotly/basedatatypes.py:4403\u001b[39m, in \u001b[36mBasePlotlyType._set_property\u001b[39m\u001b[34m(self, name, arg, provided)\u001b[39m\n\u001b[32m   4397\u001b[39m \u001b[38;5;28;01mdef\u001b[39;00m\u001b[38;5;250m \u001b[39m\u001b[34m_set_property\u001b[39m(\u001b[38;5;28mself\u001b[39m, name, arg, provided):\n\u001b[32m   4398\u001b[39m \u001b[38;5;250m    \u001b[39m\u001b[33;03m\"\"\"\u001b[39;00m\n\u001b[32m   4399\u001b[39m \u001b[33;03m    Initialize a property of this object using the provided value\u001b[39;00m\n\u001b[32m   4400\u001b[39m \u001b[33;03m    or a value popped from the arguments dictionary. If neither\u001b[39;00m\n\u001b[32m   4401\u001b[39m \u001b[33;03m    is available, do not set the property.\u001b[39;00m\n\u001b[32m   4402\u001b[39m \u001b[33;03m    \"\"\"\u001b[39;00m\n\u001b[32m-> \u001b[39m\u001b[32m4403\u001b[39m     \u001b[43m_set_property_provided_value\u001b[49m\u001b[43m(\u001b[49m\u001b[38;5;28;43mself\u001b[39;49m\u001b[43m,\u001b[49m\u001b[43m \u001b[49m\u001b[43mname\u001b[49m\u001b[43m,\u001b[49m\u001b[43m \u001b[49m\u001b[43marg\u001b[49m\u001b[43m,\u001b[49m\u001b[43m \u001b[49m\u001b[43mprovided\u001b[49m\u001b[43m)\u001b[49m\n",
      "\u001b[36mFile \u001b[39m\u001b[32m~/Desktop/adhd_meds_dash/venv/lib/python3.12/site-packages/plotly/basedatatypes.py:398\u001b[39m, in \u001b[36m_set_property_provided_value\u001b[39m\u001b[34m(obj, name, arg, provided)\u001b[39m\n\u001b[32m    396\u001b[39m val = provided \u001b[38;5;28;01mif\u001b[39;00m provided \u001b[38;5;129;01mis\u001b[39;00m \u001b[38;5;129;01mnot\u001b[39;00m \u001b[38;5;28;01mNone\u001b[39;00m \u001b[38;5;28;01melse\u001b[39;00m val\n\u001b[32m    397\u001b[39m \u001b[38;5;28;01mif\u001b[39;00m val \u001b[38;5;129;01mis\u001b[39;00m \u001b[38;5;129;01mnot\u001b[39;00m \u001b[38;5;28;01mNone\u001b[39;00m:\n\u001b[32m--> \u001b[39m\u001b[32m398\u001b[39m     \u001b[43mobj\u001b[49m\u001b[43m[\u001b[49m\u001b[43mname\u001b[49m\u001b[43m]\u001b[49m = val\n",
      "\u001b[36mFile \u001b[39m\u001b[32m~/Desktop/adhd_meds_dash/venv/lib/python3.12/site-packages/plotly/basedatatypes.py:4924\u001b[39m, in \u001b[36mBasePlotlyType.__setitem__\u001b[39m\u001b[34m(self, prop, value)\u001b[39m\n\u001b[32m   4922\u001b[39m \u001b[38;5;66;03m# ### Handle compound property ###\u001b[39;00m\n\u001b[32m   4923\u001b[39m \u001b[38;5;28;01mif\u001b[39;00m \u001b[38;5;28misinstance\u001b[39m(validator, CompoundValidator):\n\u001b[32m-> \u001b[39m\u001b[32m4924\u001b[39m     \u001b[38;5;28;43mself\u001b[39;49m\u001b[43m.\u001b[49m\u001b[43m_set_compound_prop\u001b[49m\u001b[43m(\u001b[49m\u001b[43mprop\u001b[49m\u001b[43m,\u001b[49m\u001b[43m \u001b[49m\u001b[43mvalue\u001b[49m\u001b[43m)\u001b[49m\n\u001b[32m   4926\u001b[39m \u001b[38;5;66;03m# ### Handle compound array property ###\u001b[39;00m\n\u001b[32m   4927\u001b[39m \u001b[38;5;28;01melif\u001b[39;00m \u001b[38;5;28misinstance\u001b[39m(validator, (CompoundArrayValidator, BaseDataValidator)):\n",
      "\u001b[36mFile \u001b[39m\u001b[32m~/Desktop/adhd_meds_dash/venv/lib/python3.12/site-packages/plotly/basedatatypes.py:5335\u001b[39m, in \u001b[36mBasePlotlyType._set_compound_prop\u001b[39m\u001b[34m(self, prop, val)\u001b[39m\n\u001b[32m   5332\u001b[39m \u001b[38;5;66;03m# Import value\u001b[39;00m\n\u001b[32m   5333\u001b[39m \u001b[38;5;66;03m# ------------\u001b[39;00m\n\u001b[32m   5334\u001b[39m validator = \u001b[38;5;28mself\u001b[39m._get_validator(prop)\n\u001b[32m-> \u001b[39m\u001b[32m5335\u001b[39m val = \u001b[43mvalidator\u001b[49m\u001b[43m.\u001b[49m\u001b[43mvalidate_coerce\u001b[49m\u001b[43m(\u001b[49m\u001b[43mval\u001b[49m\u001b[43m,\u001b[49m\u001b[43m \u001b[49m\u001b[43mskip_invalid\u001b[49m\u001b[43m=\u001b[49m\u001b[38;5;28;43mself\u001b[39;49m\u001b[43m.\u001b[49m\u001b[43m_skip_invalid\u001b[49m\u001b[43m)\u001b[49m\n\u001b[32m   5337\u001b[39m \u001b[38;5;66;03m# Save deep copies of current and new states\u001b[39;00m\n\u001b[32m   5338\u001b[39m \u001b[38;5;66;03m# ------------------------------------------\u001b[39;00m\n\u001b[32m   5339\u001b[39m curr_val = \u001b[38;5;28mself\u001b[39m._compound_props.get(prop, \u001b[38;5;28;01mNone\u001b[39;00m)\n",
      "\u001b[36mFile \u001b[39m\u001b[32m~/Desktop/adhd_meds_dash/venv/lib/python3.12/site-packages/_plotly_utils/basevalidators.py:2425\u001b[39m, in \u001b[36mCompoundValidator.validate_coerce\u001b[39m\u001b[34m(self, v, skip_invalid, _validate)\u001b[39m\n\u001b[32m   2422\u001b[39m     v = \u001b[38;5;28mself\u001b[39m.data_class()\n\u001b[32m   2424\u001b[39m \u001b[38;5;28;01melif\u001b[39;00m \u001b[38;5;28misinstance\u001b[39m(v, \u001b[38;5;28mdict\u001b[39m):\n\u001b[32m-> \u001b[39m\u001b[32m2425\u001b[39m     v = \u001b[38;5;28;43mself\u001b[39;49m\u001b[43m.\u001b[49m\u001b[43mdata_class\u001b[49m\u001b[43m(\u001b[49m\u001b[43mv\u001b[49m\u001b[43m,\u001b[49m\u001b[43m \u001b[49m\u001b[43mskip_invalid\u001b[49m\u001b[43m=\u001b[49m\u001b[43mskip_invalid\u001b[49m\u001b[43m,\u001b[49m\u001b[43m \u001b[49m\u001b[43m_validate\u001b[49m\u001b[43m=\u001b[49m\u001b[43m_validate\u001b[49m\u001b[43m)\u001b[49m\n\u001b[32m   2427\u001b[39m \u001b[38;5;28;01melif\u001b[39;00m \u001b[38;5;28misinstance\u001b[39m(v, \u001b[38;5;28mself\u001b[39m.data_class):\n\u001b[32m   2428\u001b[39m     \u001b[38;5;66;03m# Copy object\u001b[39;00m\n\u001b[32m   2429\u001b[39m     v = \u001b[38;5;28mself\u001b[39m.data_class(v)\n",
      "\u001b[36mFile \u001b[39m\u001b[32m~/Desktop/adhd_meds_dash/venv/lib/python3.12/site-packages/plotly/graph_objs/table/_cells.py:455\u001b[39m, in \u001b[36mCells.__init__\u001b[39m\u001b[34m(self, arg, align, alignsrc, fill, font, format, formatsrc, height, line, prefix, prefixsrc, suffix, suffixsrc, values, valuessrc, **kwargs)\u001b[39m\n\u001b[32m    453\u001b[39m \u001b[38;5;28mself\u001b[39m._set_property(\u001b[33m\"\u001b[39m\u001b[33mformat\u001b[39m\u001b[33m\"\u001b[39m, arg, \u001b[38;5;28mformat\u001b[39m)\n\u001b[32m    454\u001b[39m \u001b[38;5;28mself\u001b[39m._set_property(\u001b[33m\"\u001b[39m\u001b[33mformatsrc\u001b[39m\u001b[33m\"\u001b[39m, arg, formatsrc)\n\u001b[32m--> \u001b[39m\u001b[32m455\u001b[39m \u001b[38;5;28;43mself\u001b[39;49m\u001b[43m.\u001b[49m\u001b[43m_set_property\u001b[49m\u001b[43m(\u001b[49m\u001b[33;43m\"\u001b[39;49m\u001b[33;43mheight\u001b[39;49m\u001b[33;43m\"\u001b[39;49m\u001b[43m,\u001b[49m\u001b[43m \u001b[49m\u001b[43marg\u001b[49m\u001b[43m,\u001b[49m\u001b[43m \u001b[49m\u001b[43mheight\u001b[49m\u001b[43m)\u001b[49m\n\u001b[32m    456\u001b[39m \u001b[38;5;28mself\u001b[39m._set_property(\u001b[33m\"\u001b[39m\u001b[33mline\u001b[39m\u001b[33m\"\u001b[39m, arg, line)\n\u001b[32m    457\u001b[39m \u001b[38;5;28mself\u001b[39m._set_property(\u001b[33m\"\u001b[39m\u001b[33mprefix\u001b[39m\u001b[33m\"\u001b[39m, arg, prefix)\n",
      "\u001b[36mFile \u001b[39m\u001b[32m~/Desktop/adhd_meds_dash/venv/lib/python3.12/site-packages/plotly/basedatatypes.py:4403\u001b[39m, in \u001b[36mBasePlotlyType._set_property\u001b[39m\u001b[34m(self, name, arg, provided)\u001b[39m\n\u001b[32m   4397\u001b[39m \u001b[38;5;28;01mdef\u001b[39;00m\u001b[38;5;250m \u001b[39m\u001b[34m_set_property\u001b[39m(\u001b[38;5;28mself\u001b[39m, name, arg, provided):\n\u001b[32m   4398\u001b[39m \u001b[38;5;250m    \u001b[39m\u001b[33;03m\"\"\"\u001b[39;00m\n\u001b[32m   4399\u001b[39m \u001b[33;03m    Initialize a property of this object using the provided value\u001b[39;00m\n\u001b[32m   4400\u001b[39m \u001b[33;03m    or a value popped from the arguments dictionary. If neither\u001b[39;00m\n\u001b[32m   4401\u001b[39m \u001b[33;03m    is available, do not set the property.\u001b[39;00m\n\u001b[32m   4402\u001b[39m \u001b[33;03m    \"\"\"\u001b[39;00m\n\u001b[32m-> \u001b[39m\u001b[32m4403\u001b[39m     \u001b[43m_set_property_provided_value\u001b[49m\u001b[43m(\u001b[49m\u001b[38;5;28;43mself\u001b[39;49m\u001b[43m,\u001b[49m\u001b[43m \u001b[49m\u001b[43mname\u001b[49m\u001b[43m,\u001b[49m\u001b[43m \u001b[49m\u001b[43marg\u001b[49m\u001b[43m,\u001b[49m\u001b[43m \u001b[49m\u001b[43mprovided\u001b[49m\u001b[43m)\u001b[49m\n",
      "\u001b[36mFile \u001b[39m\u001b[32m~/Desktop/adhd_meds_dash/venv/lib/python3.12/site-packages/plotly/basedatatypes.py:398\u001b[39m, in \u001b[36m_set_property_provided_value\u001b[39m\u001b[34m(obj, name, arg, provided)\u001b[39m\n\u001b[32m    396\u001b[39m val = provided \u001b[38;5;28;01mif\u001b[39;00m provided \u001b[38;5;129;01mis\u001b[39;00m \u001b[38;5;129;01mnot\u001b[39;00m \u001b[38;5;28;01mNone\u001b[39;00m \u001b[38;5;28;01melse\u001b[39;00m val\n\u001b[32m    397\u001b[39m \u001b[38;5;28;01mif\u001b[39;00m val \u001b[38;5;129;01mis\u001b[39;00m \u001b[38;5;129;01mnot\u001b[39;00m \u001b[38;5;28;01mNone\u001b[39;00m:\n\u001b[32m--> \u001b[39m\u001b[32m398\u001b[39m     \u001b[43mobj\u001b[49m\u001b[43m[\u001b[49m\u001b[43mname\u001b[49m\u001b[43m]\u001b[49m = val\n",
      "\u001b[36mFile \u001b[39m\u001b[32m~/Desktop/adhd_meds_dash/venv/lib/python3.12/site-packages/plotly/basedatatypes.py:4932\u001b[39m, in \u001b[36mBasePlotlyType.__setitem__\u001b[39m\u001b[34m(self, prop, value)\u001b[39m\n\u001b[32m   4928\u001b[39m         \u001b[38;5;28mself\u001b[39m._set_array_prop(prop, value)\n\u001b[32m   4930\u001b[39m     \u001b[38;5;66;03m# ### Handle simple property ###\u001b[39;00m\n\u001b[32m   4931\u001b[39m     \u001b[38;5;28;01melse\u001b[39;00m:\n\u001b[32m-> \u001b[39m\u001b[32m4932\u001b[39m         \u001b[38;5;28;43mself\u001b[39;49m\u001b[43m.\u001b[49m\u001b[43m_set_prop\u001b[49m\u001b[43m(\u001b[49m\u001b[43mprop\u001b[49m\u001b[43m,\u001b[49m\u001b[43m \u001b[49m\u001b[43mvalue\u001b[49m\u001b[43m)\u001b[49m\n\u001b[32m   4933\u001b[39m \u001b[38;5;28;01melse\u001b[39;00m:\n\u001b[32m   4934\u001b[39m     \u001b[38;5;66;03m# Make sure properties dict is initialized\u001b[39;00m\n\u001b[32m   4935\u001b[39m     \u001b[38;5;28mself\u001b[39m._init_props()\n",
      "\u001b[36mFile \u001b[39m\u001b[32m~/Desktop/adhd_meds_dash/venv/lib/python3.12/site-packages/plotly/basedatatypes.py:5276\u001b[39m, in \u001b[36mBasePlotlyType._set_prop\u001b[39m\u001b[34m(self, prop, val)\u001b[39m\n\u001b[32m   5274\u001b[39m         \u001b[38;5;28;01mreturn\u001b[39;00m\n\u001b[32m   5275\u001b[39m     \u001b[38;5;28;01melse\u001b[39;00m:\n\u001b[32m-> \u001b[39m\u001b[32m5276\u001b[39m         \u001b[38;5;28;01mraise\u001b[39;00m err\n\u001b[32m   5278\u001b[39m \u001b[38;5;66;03m# val is None\u001b[39;00m\n\u001b[32m   5279\u001b[39m \u001b[38;5;66;03m# -----------\u001b[39;00m\n\u001b[32m   5280\u001b[39m \u001b[38;5;28;01mif\u001b[39;00m val \u001b[38;5;129;01mis\u001b[39;00m \u001b[38;5;28;01mNone\u001b[39;00m:\n\u001b[32m   5281\u001b[39m     \u001b[38;5;66;03m# Check if we should send null update\u001b[39;00m\n",
      "\u001b[36mFile \u001b[39m\u001b[32m~/Desktop/adhd_meds_dash/venv/lib/python3.12/site-packages/plotly/basedatatypes.py:5271\u001b[39m, in \u001b[36mBasePlotlyType._set_prop\u001b[39m\u001b[34m(self, prop, val)\u001b[39m\n\u001b[32m   5268\u001b[39m validator = \u001b[38;5;28mself\u001b[39m._get_validator(prop)\n\u001b[32m   5270\u001b[39m \u001b[38;5;28;01mtry\u001b[39;00m:\n\u001b[32m-> \u001b[39m\u001b[32m5271\u001b[39m     val = \u001b[43mvalidator\u001b[49m\u001b[43m.\u001b[49m\u001b[43mvalidate_coerce\u001b[49m\u001b[43m(\u001b[49m\u001b[43mval\u001b[49m\u001b[43m)\u001b[49m\n\u001b[32m   5272\u001b[39m \u001b[38;5;28;01mexcept\u001b[39;00m \u001b[38;5;167;01mValueError\u001b[39;00m \u001b[38;5;28;01mas\u001b[39;00m err:\n\u001b[32m   5273\u001b[39m     \u001b[38;5;28;01mif\u001b[39;00m \u001b[38;5;28mself\u001b[39m._skip_invalid:\n",
      "\u001b[36mFile \u001b[39m\u001b[32m~/Desktop/adhd_meds_dash/venv/lib/python3.12/site-packages/_plotly_utils/basevalidators.py:792\u001b[39m, in \u001b[36mNumberValidator.validate_coerce\u001b[39m\u001b[34m(self, v)\u001b[39m\n\u001b[32m    789\u001b[39m \u001b[38;5;28;01melse\u001b[39;00m:\n\u001b[32m    790\u001b[39m     \u001b[38;5;66;03m# Check numeric\u001b[39;00m\n\u001b[32m    791\u001b[39m     \u001b[38;5;28;01mif\u001b[39;00m \u001b[38;5;129;01mnot\u001b[39;00m \u001b[38;5;28misinstance\u001b[39m(v, numbers.Number):\n\u001b[32m--> \u001b[39m\u001b[32m792\u001b[39m         \u001b[38;5;28;43mself\u001b[39;49m\u001b[43m.\u001b[49m\u001b[43mraise_invalid_val\u001b[49m\u001b[43m(\u001b[49m\u001b[43mv\u001b[49m\u001b[43m)\u001b[49m\n\u001b[32m    794\u001b[39m     \u001b[38;5;66;03m# Check min/max\u001b[39;00m\n\u001b[32m    795\u001b[39m     \u001b[38;5;28;01mif\u001b[39;00m \u001b[38;5;28mself\u001b[39m.has_min_max:\n",
      "\u001b[36mFile \u001b[39m\u001b[32m~/Desktop/adhd_meds_dash/venv/lib/python3.12/site-packages/_plotly_utils/basevalidators.py:298\u001b[39m, in \u001b[36mBaseValidator.raise_invalid_val\u001b[39m\u001b[34m(self, v, inds)\u001b[39m\n\u001b[32m    295\u001b[39m             \u001b[38;5;28;01mfor\u001b[39;00m i \u001b[38;5;129;01min\u001b[39;00m inds:\n\u001b[32m    296\u001b[39m                 name += \u001b[33m\"\u001b[39m\u001b[33m[\u001b[39m\u001b[33m\"\u001b[39m + \u001b[38;5;28mstr\u001b[39m(i) + \u001b[33m\"\u001b[39m\u001b[33m]\u001b[39m\u001b[33m\"\u001b[39m\n\u001b[32m--> \u001b[39m\u001b[32m298\u001b[39m         \u001b[38;5;28;01mraise\u001b[39;00m \u001b[38;5;167;01mValueError\u001b[39;00m(\n\u001b[32m    299\u001b[39m \u001b[38;5;250m            \u001b[39m\u001b[33;03m\"\"\"\u001b[39;00m\n\u001b[32m    300\u001b[39m \u001b[33;03m    Invalid value of type {typ} received for the '{name}' property of {pname}\u001b[39;00m\n\u001b[32m    301\u001b[39m \u001b[33;03m        Received value: {v}\u001b[39;00m\n\u001b[32m    302\u001b[39m \n\u001b[32m    303\u001b[39m \u001b[33;03m{valid_clr_desc}\"\"\"\u001b[39;00m.format(\n\u001b[32m    304\u001b[39m                 name=name,\n\u001b[32m    305\u001b[39m                 pname=\u001b[38;5;28mself\u001b[39m.parent_name,\n\u001b[32m    306\u001b[39m                 typ=type_str(v),\n\u001b[32m    307\u001b[39m                 v=\u001b[38;5;28mrepr\u001b[39m(v),\n\u001b[32m    308\u001b[39m                 valid_clr_desc=\u001b[38;5;28mself\u001b[39m.description(),\n\u001b[32m    309\u001b[39m             )\n\u001b[32m    310\u001b[39m         )\n",
      "\u001b[31mValueError\u001b[39m: \n    Invalid value of type 'builtins.str' received for the 'height' property of table.cells\n        Received value: 'text'\n\n    The 'height' property is a number and may be specified as:\n      - An int or float"
     ]
    }
   ],
   "source": [
    "import plotly.graph_objects as go\n",
    "\n",
    "fig = go.Figure(data=[go.Table(\n",
    "    header=dict(values=[\"Medication\", \"Type\"]),\n",
    "    cells=dict(\n",
    "        values=[\n",
    "            [\"Ritalin\", \"Ritalin LA\"],\n",
    "            [\"Stimulant\", \"Long-acting Stimulant\"]\n",
    "        ],\n",
    "        format=[\n",
    "            [\"Used to treat ADHD\", \"Extended-release form\"],\n",
    "            [\"Short acting\", \"Lasts longer in system\"]\n",
    "        ],\n",
    "        height=\"text\"\n",
    "    )\n",
    ")])\n",
    "\n",
    "fig.show()\n"
   ]
  },
  {
   "cell_type": "code",
   "execution_count": null,
   "id": "fc9ef699",
   "metadata": {},
   "outputs": [],
   "source": [
    "import streamlit as st\n",
    "\n",
    "st.markdown(\"\"\"\n",
    "<table border=\"1\">\n",
    "  <tr>\n",
    "    <th>Medication</th>\n",
    "    <th>Type</th>\n",
    "  </tr>\n",
    "  <tr>\n",
    "    <td title=\"Used to treat ADHD and narcolepsy\">Ritalin</td>\n",
    "    <td title=\"Stimulant – Methylphenidate\">Stimulant</td>\n",
    "  </tr>\n",
    "</table>\n",
    "\"\"\", unsafe_allow_html=True)\n"
   ]
  }
 ],
 "metadata": {
  "kernelspec": {
   "display_name": "venv",
   "language": "python",
   "name": "python3"
  },
  "language_info": {
   "codemirror_mode": {
    "name": "ipython",
    "version": 3
   },
   "file_extension": ".py",
   "mimetype": "text/x-python",
   "name": "python",
   "nbconvert_exporter": "python",
   "pygments_lexer": "ipython3",
   "version": "3.12.7"
  }
 },
 "nbformat": 4,
 "nbformat_minor": 5
}
